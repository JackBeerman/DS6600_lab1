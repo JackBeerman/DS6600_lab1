{
 "cells": [
  {
   "cell_type": "raw",
   "id": "7ae98a29-0b56-4b59-a9a5-edf884799dcd",
   "metadata": {},
   "source": [
    "[[source]]\n",
    "url = \"https://pypi.org/simple\"\n",
    "verify_ssl = true\n",
    "name = \"pypi\"\n",
    "\n",
    "[packages]\n",
    "numpy = \"==1.25.2\"\n",
    "pandas = \"==2.0.3\"\n",
    "ipykernel = \"==6.25.1\"\n",
    "matplotlib = \"==3.7.2\"\n",
    "requests = \"==2.31.0\"\n",
    "jupyterlab = \"==4.0.5\"\n",
    "jupyter = \"*\"\n",
    "lab = \"*\"\n",
    "\n",
    "[dev-packages]\n",
    "\n",
    "[requires]\n",
    "python_version = \"3.11\"\n",
    "python_full_version = \"3.11.4\"\n"
   ]
  },
  {
   "cell_type": "code",
   "execution_count": 1,
   "id": "7c7f148e-c5b6-4d9f-9a91-68fa5bf8afd8",
   "metadata": {},
   "outputs": [
    {
     "name": "stdout",
     "output_type": "stream",
     "text": [
      "Python 3.11.4\n"
     ]
    }
   ],
   "source": [
    "!python --version"
   ]
  },
  {
   "cell_type": "code",
   "execution_count": 3,
   "id": "27b483f7-6536-4301-b370-68fad87f8360",
   "metadata": {},
   "outputs": [],
   "source": [
    "import numpy as np\n",
    "import pandas as pd\n",
    "import matplotlib\n",
    "import requests"
   ]
  },
  {
   "cell_type": "code",
   "execution_count": 4,
   "id": "48715f58-5ae8-4509-8519-55b934ac9f6f",
   "metadata": {},
   "outputs": [
    {
     "ename": "ModuleNotFoundError",
     "evalue": "No module named 'sklearn'",
     "output_type": "error",
     "traceback": [
      "\u001b[1;31m---------------------------------------------------------------------------\u001b[0m",
      "\u001b[1;31mModuleNotFoundError\u001b[0m                       Traceback (most recent call last)",
      "Cell \u001b[1;32mIn[4], line 1\u001b[0m\n\u001b[1;32m----> 1\u001b[0m \u001b[38;5;28;01mimport\u001b[39;00m \u001b[38;5;21;01msklearn\u001b[39;00m\n",
      "\u001b[1;31mModuleNotFoundError\u001b[0m: No module named 'sklearn'"
     ]
    }
   ],
   "source": [
    "import sklearn"
   ]
  },
  {
   "cell_type": "markdown",
   "id": "01bbbf51-c238-4e93-baf8-98f8720021be",
   "metadata": {},
   "source": [
    "# Question 3"
   ]
  },
  {
   "cell_type": "markdown",
   "id": "d50b83d1-d9c4-4403-863a-b4081a0b2dd1",
   "metadata": {},
   "source": [
    "# A\n",
    "#### In this scenario, it would be best to have each chapter on a virtual machine. The main reason behind this selection is the need for a large amount of storage for indiviudal databases of each chapter. If we used a container, we would be using the processing power of individual devices. The VM allows users to connect over the internet with the OS set so there are no issues running the application. A virtual environment and global environment would have issues with the OS and the storage for databases. "
   ]
  },
  {
   "cell_type": "markdown",
   "id": "a0f31108-8057-4652-9f49-1f06985163e6",
   "metadata": {},
   "source": [
    "# B\n",
    "##### I would use my global environment for this scenario because the organization does not need to run my code and just wants the final report. My global environment has the capaibility to complete these tasks and probably has all the nessecary packages in Python installed for this task. Any other option would be an overkill. "
   ]
  },
  {
   "cell_type": "markdown",
   "id": "f962c59b-ca38-4c16-8a69-adaf5be01d5c",
   "metadata": {},
   "source": [
    "# C \n",
    "##### In this scenario, I would utilize a VM because of the Python packages that only work on Ubuntu Linux. The VM would have the OS as Ubuntu Linux. In addition, the land-satellite images are going to require a large amount of processing power that my own device could probably not manage. Other people may not be able to manage the amount of data if they were using a container so it would be best to have them connect to a VM. "
   ]
  },
  {
   "cell_type": "markdown",
   "id": "a5cae535-68e4-4137-acc7-f9bec8d042af",
   "metadata": {},
   "source": [
    "# D\n",
    "##### For this last scenario, I would use a virtual environment to learn Python version 4. Using a virtual environment will ensure that I do not create issues on my global environment. A VM or Container could create the speration from my global environment but would just be an overkill."
   ]
  },
  {
   "cell_type": "code",
   "execution_count": null,
   "id": "dd2de495-522c-48b7-a615-4ce44954f8d3",
   "metadata": {},
   "outputs": [],
   "source": []
  }
 ],
 "metadata": {
  "kernelspec": {
   "display_name": "my-venv",
   "language": "python",
   "name": "my-venv"
  },
  "language_info": {
   "codemirror_mode": {
    "name": "ipython",
    "version": 3
   },
   "file_extension": ".py",
   "mimetype": "text/x-python",
   "name": "python",
   "nbconvert_exporter": "python",
   "pygments_lexer": "ipython3",
   "version": "3.11.4"
  }
 },
 "nbformat": 4,
 "nbformat_minor": 5
}
